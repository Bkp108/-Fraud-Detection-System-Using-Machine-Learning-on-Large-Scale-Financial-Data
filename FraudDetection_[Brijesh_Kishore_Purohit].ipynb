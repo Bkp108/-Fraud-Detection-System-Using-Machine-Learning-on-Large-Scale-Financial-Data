{
  "cells": [
    {
      "cell_type": "markdown",
      "metadata": {
        "id": "EsAfsEo-pdWT"
      },
      "source": [
        "# Fraud Detection Internship Assignment – Accredian\n"
      ]
    },
    {
      "cell_type": "markdown",
      "metadata": {
        "id": "4kOo43GBpfuD"
      },
      "source": [
        "<code>Name: Brijesh Kishore Purohit, phone no.: +91 7023303839, e-mail: brijeshkpurohit04@gmail.com</code>\n"
      ]
    },
    {
      "cell_type": "markdown",
      "metadata": {
        "id": "YjHrofChpauP"
      },
      "source": [
        "> ## 📦 1. Importing Libraries"
      ]
    },
    {
      "cell_type": "code",
      "execution_count": 1,
      "metadata": {
        "id": "mfFB9iganZea"
      },
      "outputs": [],
      "source": [
        "import pandas as pd\n",
        "import numpy as np\n",
        "import seaborn as sns\n",
        "import matplotlib.pyplot as plt\n",
        "from sklearn.model_selection import train_test_split\n",
        "from sklearn.ensemble import RandomForestClassifier\n",
        "from sklearn.linear_model import LogisticRegression\n",
        "from sklearn.metrics import classification_report, confusion_matrix, roc_auc_score, roc_curve"
      ]
    },
    {
      "cell_type": "markdown",
      "metadata": {
        "id": "xCcUmwOjpYt2"
      },
      "source": [
        "> ## 📁 2. Data Loading\n",
        "* Load the dataset from a CSV file. Handle file errors gracefully to ensure smooth execution."
      ]
    },
    {
      "cell_type": "code",
      "execution_count": 2,
      "metadata": {
        "colab": {
          "base_uri": "https://localhost:8080/"
        },
        "id": "ONoYuYjunqJu",
        "outputId": "c525aa58-6c55-4b6b-8ba5-4e2c11a6ca56"
      },
      "outputs": [
        {
          "name": "stdout",
          "output_type": "stream",
          "text": [
            "✅ Data loaded successfully. Shape: (42271, 11)\n"
          ]
        }
      ],
      "source": [
        "import pandas as pd\n",
        "\n",
        "file_path = r\"/content/Fraud.csv\"\n",
        "try:\n",
        "    df = pd.read_csv(file_path)\n",
        "    print(f\"✅ Data loaded successfully. Shape: {df.shape}\")\n",
        "except FileNotFoundError:\n",
        "    print(\"🚨 File not found. Please check the file path.\")\n",
        "except OSError as e:\n",
        "    print(f\"🚨 OS error occurred: {e}\")\n"
      ]
    },
    {
      "cell_type": "code",
      "execution_count": 3,
      "metadata": {
        "colab": {
          "base_uri": "https://localhost:8080/",
          "height": 206
        },
        "id": "_StSq57wnws7",
        "outputId": "d4dd7204-e217-4ef5-9ab7-ff0e7d40f4f1"
      },
      "outputs": [
        {
          "data": {
            "application/vnd.google.colaboratory.intrinsic+json": {
              "summary": "{\n  \"name\": \"df\",\n  \"rows\": 42271,\n  \"fields\": [\n    {\n      \"column\": \"step\",\n      \"properties\": {\n        \"dtype\": \"number\",\n        \"std\": 2,\n        \"min\": 1,\n        \"max\": 9,\n        \"num_unique_values\": 9,\n        \"samples\": [\n          8,\n          2,\n          6\n        ],\n        \"semantic_type\": \"\",\n        \"description\": \"\"\n      }\n    },\n    {\n      \"column\": \"type\",\n      \"properties\": {\n        \"dtype\": \"category\",\n        \"num_unique_values\": 5,\n        \"samples\": [\n          \"TRANSFER\",\n          \"CASH_IN\",\n          \"CASH_OUT\"\n        ],\n        \"semantic_type\": \"\",\n        \"description\": \"\"\n      }\n    },\n    {\n      \"column\": \"amount\",\n      \"properties\": {\n        \"dtype\": \"number\",\n        \"std\": 314500.45052440354,\n        \"min\": 1.77,\n        \"max\": 10000000.0,\n        \"num_unique_values\": 42090,\n        \"samples\": [\n          64965.19,\n          2527.79,\n          135665.1\n        ],\n        \"semantic_type\": \"\",\n        \"description\": \"\"\n      }\n    },\n    {\n      \"column\": \"nameOrig\",\n      \"properties\": {\n        \"dtype\": \"string\",\n        \"num_unique_values\": 42271,\n        \"samples\": [\n          \"C86338905\",\n          \"C1614588868\",\n          \"C687956652\"\n        ],\n        \"semantic_type\": \"\",\n        \"description\": \"\"\n      }\n    },\n    {\n      \"column\": \"oldbalanceOrg\",\n      \"properties\": {\n        \"dtype\": \"number\",\n        \"std\": 2284003.2264759587,\n        \"min\": 0.0,\n        \"max\": 28547237.16,\n        \"num_unique_values\": 26583,\n        \"samples\": [\n          6967602.17,\n          280350.31,\n          26382.75\n        ],\n        \"semantic_type\": \"\",\n        \"description\": \"\"\n      }\n    },\n    {\n      \"column\": \"newbalanceOrig\",\n      \"properties\": {\n        \"dtype\": \"number\",\n        \"std\": 2321940.955925142,\n        \"min\": 0.0,\n        \"max\": 28617396.21,\n        \"num_unique_values\": 21221,\n        \"samples\": [\n          5220.68,\n          5142.22,\n          218042.63\n        ],\n        \"semantic_type\": \"\",\n        \"description\": \"\"\n      }\n    },\n    {\n      \"column\": \"nameDest\",\n      \"properties\": {\n        \"dtype\": \"string\",\n        \"num_unique_values\": 24626,\n        \"samples\": [\n          \"M490998082\",\n          \"M78924391\",\n          \"C556812393\"\n        ],\n        \"semantic_type\": \"\",\n        \"description\": \"\"\n      }\n    },\n    {\n      \"column\": \"oldbalanceDest\",\n      \"properties\": {\n        \"dtype\": \"number\",\n        \"std\": 2466742.629594178,\n        \"min\": 0.0,\n        \"max\": 29584542.04,\n        \"num_unique_values\": 20758,\n        \"samples\": [\n          866076.07,\n          289850.78,\n          833136.61\n        ],\n        \"semantic_type\": \"\",\n        \"description\": \"\"\n      }\n    },\n    {\n      \"column\": \"newbalanceDest\",\n      \"properties\": {\n        \"dtype\": \"number\",\n        \"std\": 2960507.756238593,\n        \"min\": 0.0,\n        \"max\": 31306920.44,\n        \"num_unique_values\": 6940,\n        \"samples\": [\n          305722.91,\n          381540.9,\n          949172.96\n        ],\n        \"semantic_type\": \"\",\n        \"description\": \"\"\n      }\n    },\n    {\n      \"column\": \"isFraud\",\n      \"properties\": {\n        \"dtype\": \"number\",\n        \"std\": 0.04710527141259224,\n        \"min\": 0.0,\n        \"max\": 1.0,\n        \"num_unique_values\": 2,\n        \"samples\": [\n          1.0,\n          0.0\n        ],\n        \"semantic_type\": \"\",\n        \"description\": \"\"\n      }\n    },\n    {\n      \"column\": \"isFlaggedFraud\",\n      \"properties\": {\n        \"dtype\": \"number\",\n        \"std\": 0.0,\n        \"min\": 0.0,\n        \"max\": 0.0,\n        \"num_unique_values\": 1,\n        \"samples\": [\n          0.0\n        ],\n        \"semantic_type\": \"\",\n        \"description\": \"\"\n      }\n    }\n  ]\n}",
              "type": "dataframe",
              "variable_name": "df"
            },
            "text/html": [
              "\n",
              "  <div id=\"df-da3f67c9-f060-4f2d-a0c4-88efef9cc9d3\" class=\"colab-df-container\">\n",
              "    <div>\n",
              "<style scoped>\n",
              "    .dataframe tbody tr th:only-of-type {\n",
              "        vertical-align: middle;\n",
              "    }\n",
              "\n",
              "    .dataframe tbody tr th {\n",
              "        vertical-align: top;\n",
              "    }\n",
              "\n",
              "    .dataframe thead th {\n",
              "        text-align: right;\n",
              "    }\n",
              "</style>\n",
              "<table border=\"1\" class=\"dataframe\">\n",
              "  <thead>\n",
              "    <tr style=\"text-align: right;\">\n",
              "      <th></th>\n",
              "      <th>step</th>\n",
              "      <th>type</th>\n",
              "      <th>amount</th>\n",
              "      <th>nameOrig</th>\n",
              "      <th>oldbalanceOrg</th>\n",
              "      <th>newbalanceOrig</th>\n",
              "      <th>nameDest</th>\n",
              "      <th>oldbalanceDest</th>\n",
              "      <th>newbalanceDest</th>\n",
              "      <th>isFraud</th>\n",
              "      <th>isFlaggedFraud</th>\n",
              "    </tr>\n",
              "  </thead>\n",
              "  <tbody>\n",
              "    <tr>\n",
              "      <th>0</th>\n",
              "      <td>1</td>\n",
              "      <td>PAYMENT</td>\n",
              "      <td>9839.64</td>\n",
              "      <td>C1231006815</td>\n",
              "      <td>170136.0</td>\n",
              "      <td>160296.36</td>\n",
              "      <td>M1979787155</td>\n",
              "      <td>0.0</td>\n",
              "      <td>0.0</td>\n",
              "      <td>0.0</td>\n",
              "      <td>0.0</td>\n",
              "    </tr>\n",
              "    <tr>\n",
              "      <th>1</th>\n",
              "      <td>1</td>\n",
              "      <td>PAYMENT</td>\n",
              "      <td>1864.28</td>\n",
              "      <td>C1666544295</td>\n",
              "      <td>21249.0</td>\n",
              "      <td>19384.72</td>\n",
              "      <td>M2044282225</td>\n",
              "      <td>0.0</td>\n",
              "      <td>0.0</td>\n",
              "      <td>0.0</td>\n",
              "      <td>0.0</td>\n",
              "    </tr>\n",
              "    <tr>\n",
              "      <th>2</th>\n",
              "      <td>1</td>\n",
              "      <td>TRANSFER</td>\n",
              "      <td>181.00</td>\n",
              "      <td>C1305486145</td>\n",
              "      <td>181.0</td>\n",
              "      <td>0.00</td>\n",
              "      <td>C553264065</td>\n",
              "      <td>0.0</td>\n",
              "      <td>0.0</td>\n",
              "      <td>1.0</td>\n",
              "      <td>0.0</td>\n",
              "    </tr>\n",
              "    <tr>\n",
              "      <th>3</th>\n",
              "      <td>1</td>\n",
              "      <td>CASH_OUT</td>\n",
              "      <td>181.00</td>\n",
              "      <td>C840083671</td>\n",
              "      <td>181.0</td>\n",
              "      <td>0.00</td>\n",
              "      <td>C38997010</td>\n",
              "      <td>21182.0</td>\n",
              "      <td>0.0</td>\n",
              "      <td>1.0</td>\n",
              "      <td>0.0</td>\n",
              "    </tr>\n",
              "    <tr>\n",
              "      <th>4</th>\n",
              "      <td>1</td>\n",
              "      <td>PAYMENT</td>\n",
              "      <td>11668.14</td>\n",
              "      <td>C2048537720</td>\n",
              "      <td>41554.0</td>\n",
              "      <td>29885.86</td>\n",
              "      <td>M1230701703</td>\n",
              "      <td>0.0</td>\n",
              "      <td>0.0</td>\n",
              "      <td>0.0</td>\n",
              "      <td>0.0</td>\n",
              "    </tr>\n",
              "  </tbody>\n",
              "</table>\n",
              "</div>\n",
              "    <div class=\"colab-df-buttons\">\n",
              "\n",
              "  <div class=\"colab-df-container\">\n",
              "    <button class=\"colab-df-convert\" onclick=\"convertToInteractive('df-da3f67c9-f060-4f2d-a0c4-88efef9cc9d3')\"\n",
              "            title=\"Convert this dataframe to an interactive table.\"\n",
              "            style=\"display:none;\">\n",
              "\n",
              "  <svg xmlns=\"http://www.w3.org/2000/svg\" height=\"24px\" viewBox=\"0 -960 960 960\">\n",
              "    <path d=\"M120-120v-720h720v720H120Zm60-500h600v-160H180v160Zm220 220h160v-160H400v160Zm0 220h160v-160H400v160ZM180-400h160v-160H180v160Zm440 0h160v-160H620v160ZM180-180h160v-160H180v160Zm440 0h160v-160H620v160Z\"/>\n",
              "  </svg>\n",
              "    </button>\n",
              "\n",
              "  <style>\n",
              "    .colab-df-container {\n",
              "      display:flex;\n",
              "      gap: 12px;\n",
              "    }\n",
              "\n",
              "    .colab-df-convert {\n",
              "      background-color: #E8F0FE;\n",
              "      border: none;\n",
              "      border-radius: 50%;\n",
              "      cursor: pointer;\n",
              "      display: none;\n",
              "      fill: #1967D2;\n",
              "      height: 32px;\n",
              "      padding: 0 0 0 0;\n",
              "      width: 32px;\n",
              "    }\n",
              "\n",
              "    .colab-df-convert:hover {\n",
              "      background-color: #E2EBFA;\n",
              "      box-shadow: 0px 1px 2px rgba(60, 64, 67, 0.3), 0px 1px 3px 1px rgba(60, 64, 67, 0.15);\n",
              "      fill: #174EA6;\n",
              "    }\n",
              "\n",
              "    .colab-df-buttons div {\n",
              "      margin-bottom: 4px;\n",
              "    }\n",
              "\n",
              "    [theme=dark] .colab-df-convert {\n",
              "      background-color: #3B4455;\n",
              "      fill: #D2E3FC;\n",
              "    }\n",
              "\n",
              "    [theme=dark] .colab-df-convert:hover {\n",
              "      background-color: #434B5C;\n",
              "      box-shadow: 0px 1px 3px 1px rgba(0, 0, 0, 0.15);\n",
              "      filter: drop-shadow(0px 1px 2px rgba(0, 0, 0, 0.3));\n",
              "      fill: #FFFFFF;\n",
              "    }\n",
              "  </style>\n",
              "\n",
              "    <script>\n",
              "      const buttonEl =\n",
              "        document.querySelector('#df-da3f67c9-f060-4f2d-a0c4-88efef9cc9d3 button.colab-df-convert');\n",
              "      buttonEl.style.display =\n",
              "        google.colab.kernel.accessAllowed ? 'block' : 'none';\n",
              "\n",
              "      async function convertToInteractive(key) {\n",
              "        const element = document.querySelector('#df-da3f67c9-f060-4f2d-a0c4-88efef9cc9d3');\n",
              "        const dataTable =\n",
              "          await google.colab.kernel.invokeFunction('convertToInteractive',\n",
              "                                                    [key], {});\n",
              "        if (!dataTable) return;\n",
              "\n",
              "        const docLinkHtml = 'Like what you see? Visit the ' +\n",
              "          '<a target=\"_blank\" href=https://colab.research.google.com/notebooks/data_table.ipynb>data table notebook</a>'\n",
              "          + ' to learn more about interactive tables.';\n",
              "        element.innerHTML = '';\n",
              "        dataTable['output_type'] = 'display_data';\n",
              "        await google.colab.output.renderOutput(dataTable, element);\n",
              "        const docLink = document.createElement('div');\n",
              "        docLink.innerHTML = docLinkHtml;\n",
              "        element.appendChild(docLink);\n",
              "      }\n",
              "    </script>\n",
              "  </div>\n",
              "\n",
              "\n",
              "    <div id=\"df-109a04ba-51d7-4ec8-b3af-29524eb7aeb6\">\n",
              "      <button class=\"colab-df-quickchart\" onclick=\"quickchart('df-109a04ba-51d7-4ec8-b3af-29524eb7aeb6')\"\n",
              "                title=\"Suggest charts\"\n",
              "                style=\"display:none;\">\n",
              "\n",
              "<svg xmlns=\"http://www.w3.org/2000/svg\" height=\"24px\"viewBox=\"0 0 24 24\"\n",
              "     width=\"24px\">\n",
              "    <g>\n",
              "        <path d=\"M19 3H5c-1.1 0-2 .9-2 2v14c0 1.1.9 2 2 2h14c1.1 0 2-.9 2-2V5c0-1.1-.9-2-2-2zM9 17H7v-7h2v7zm4 0h-2V7h2v10zm4 0h-2v-4h2v4z\"/>\n",
              "    </g>\n",
              "</svg>\n",
              "      </button>\n",
              "\n",
              "<style>\n",
              "  .colab-df-quickchart {\n",
              "      --bg-color: #E8F0FE;\n",
              "      --fill-color: #1967D2;\n",
              "      --hover-bg-color: #E2EBFA;\n",
              "      --hover-fill-color: #174EA6;\n",
              "      --disabled-fill-color: #AAA;\n",
              "      --disabled-bg-color: #DDD;\n",
              "  }\n",
              "\n",
              "  [theme=dark] .colab-df-quickchart {\n",
              "      --bg-color: #3B4455;\n",
              "      --fill-color: #D2E3FC;\n",
              "      --hover-bg-color: #434B5C;\n",
              "      --hover-fill-color: #FFFFFF;\n",
              "      --disabled-bg-color: #3B4455;\n",
              "      --disabled-fill-color: #666;\n",
              "  }\n",
              "\n",
              "  .colab-df-quickchart {\n",
              "    background-color: var(--bg-color);\n",
              "    border: none;\n",
              "    border-radius: 50%;\n",
              "    cursor: pointer;\n",
              "    display: none;\n",
              "    fill: var(--fill-color);\n",
              "    height: 32px;\n",
              "    padding: 0;\n",
              "    width: 32px;\n",
              "  }\n",
              "\n",
              "  .colab-df-quickchart:hover {\n",
              "    background-color: var(--hover-bg-color);\n",
              "    box-shadow: 0 1px 2px rgba(60, 64, 67, 0.3), 0 1px 3px 1px rgba(60, 64, 67, 0.15);\n",
              "    fill: var(--button-hover-fill-color);\n",
              "  }\n",
              "\n",
              "  .colab-df-quickchart-complete:disabled,\n",
              "  .colab-df-quickchart-complete:disabled:hover {\n",
              "    background-color: var(--disabled-bg-color);\n",
              "    fill: var(--disabled-fill-color);\n",
              "    box-shadow: none;\n",
              "  }\n",
              "\n",
              "  .colab-df-spinner {\n",
              "    border: 2px solid var(--fill-color);\n",
              "    border-color: transparent;\n",
              "    border-bottom-color: var(--fill-color);\n",
              "    animation:\n",
              "      spin 1s steps(1) infinite;\n",
              "  }\n",
              "\n",
              "  @keyframes spin {\n",
              "    0% {\n",
              "      border-color: transparent;\n",
              "      border-bottom-color: var(--fill-color);\n",
              "      border-left-color: var(--fill-color);\n",
              "    }\n",
              "    20% {\n",
              "      border-color: transparent;\n",
              "      border-left-color: var(--fill-color);\n",
              "      border-top-color: var(--fill-color);\n",
              "    }\n",
              "    30% {\n",
              "      border-color: transparent;\n",
              "      border-left-color: var(--fill-color);\n",
              "      border-top-color: var(--fill-color);\n",
              "      border-right-color: var(--fill-color);\n",
              "    }\n",
              "    40% {\n",
              "      border-color: transparent;\n",
              "      border-right-color: var(--fill-color);\n",
              "      border-top-color: var(--fill-color);\n",
              "    }\n",
              "    60% {\n",
              "      border-color: transparent;\n",
              "      border-right-color: var(--fill-color);\n",
              "    }\n",
              "    80% {\n",
              "      border-color: transparent;\n",
              "      border-right-color: var(--fill-color);\n",
              "      border-bottom-color: var(--fill-color);\n",
              "    }\n",
              "    90% {\n",
              "      border-color: transparent;\n",
              "      border-bottom-color: var(--fill-color);\n",
              "    }\n",
              "  }\n",
              "</style>\n",
              "\n",
              "      <script>\n",
              "        async function quickchart(key) {\n",
              "          const quickchartButtonEl =\n",
              "            document.querySelector('#' + key + ' button');\n",
              "          quickchartButtonEl.disabled = true;  // To prevent multiple clicks.\n",
              "          quickchartButtonEl.classList.add('colab-df-spinner');\n",
              "          try {\n",
              "            const charts = await google.colab.kernel.invokeFunction(\n",
              "                'suggestCharts', [key], {});\n",
              "          } catch (error) {\n",
              "            console.error('Error during call to suggestCharts:', error);\n",
              "          }\n",
              "          quickchartButtonEl.classList.remove('colab-df-spinner');\n",
              "          quickchartButtonEl.classList.add('colab-df-quickchart-complete');\n",
              "        }\n",
              "        (() => {\n",
              "          let quickchartButtonEl =\n",
              "            document.querySelector('#df-109a04ba-51d7-4ec8-b3af-29524eb7aeb6 button');\n",
              "          quickchartButtonEl.style.display =\n",
              "            google.colab.kernel.accessAllowed ? 'block' : 'none';\n",
              "        })();\n",
              "      </script>\n",
              "    </div>\n",
              "\n",
              "    </div>\n",
              "  </div>\n"
            ],
            "text/plain": [
              "   step      type    amount     nameOrig  oldbalanceOrg  newbalanceOrig  \\\n",
              "0     1   PAYMENT   9839.64  C1231006815       170136.0       160296.36   \n",
              "1     1   PAYMENT   1864.28  C1666544295        21249.0        19384.72   \n",
              "2     1  TRANSFER    181.00  C1305486145          181.0            0.00   \n",
              "3     1  CASH_OUT    181.00   C840083671          181.0            0.00   \n",
              "4     1   PAYMENT  11668.14  C2048537720        41554.0        29885.86   \n",
              "\n",
              "      nameDest  oldbalanceDest  newbalanceDest  isFraud  isFlaggedFraud  \n",
              "0  M1979787155             0.0             0.0      0.0             0.0  \n",
              "1  M2044282225             0.0             0.0      0.0             0.0  \n",
              "2   C553264065             0.0             0.0      1.0             0.0  \n",
              "3    C38997010         21182.0             0.0      1.0             0.0  \n",
              "4  M1230701703             0.0             0.0      0.0             0.0  "
            ]
          },
          "execution_count": 3,
          "metadata": {},
          "output_type": "execute_result"
        }
      ],
      "source": [
        "df.head()"
      ]
    },
    {
      "cell_type": "code",
      "execution_count": 4,
      "metadata": {
        "colab": {
          "base_uri": "https://localhost:8080/"
        },
        "id": "sokP-itBnywp",
        "outputId": "5ee64992-716e-4ea6-b485-9ea68fa15dd6"
      },
      "outputs": [
        {
          "name": "stdout",
          "output_type": "stream",
          "text": [
            "<class 'pandas.core.frame.DataFrame'>\n",
            "RangeIndex: 42271 entries, 0 to 42270\n",
            "Data columns (total 11 columns):\n",
            " #   Column          Non-Null Count  Dtype  \n",
            "---  ------          --------------  -----  \n",
            " 0   step            42271 non-null  int64  \n",
            " 1   type            42271 non-null  object \n",
            " 2   amount          42271 non-null  float64\n",
            " 3   nameOrig        42271 non-null  object \n",
            " 4   oldbalanceOrg   42271 non-null  float64\n",
            " 5   newbalanceOrig  42271 non-null  float64\n",
            " 6   nameDest        42271 non-null  object \n",
            " 7   oldbalanceDest  42270 non-null  float64\n",
            " 8   newbalanceDest  42270 non-null  float64\n",
            " 9   isFraud         42270 non-null  float64\n",
            " 10  isFlaggedFraud  42270 non-null  float64\n",
            "dtypes: float64(7), int64(1), object(3)\n",
            "memory usage: 3.5+ MB\n",
            "None\n"
          ]
        }
      ],
      "source": [
        "print(df.info())"
      ]
    },
    {
      "cell_type": "code",
      "execution_count": 5,
      "metadata": {
        "colab": {
          "base_uri": "https://localhost:8080/"
        },
        "id": "3v5JeFH3n0rc",
        "outputId": "b11f1e85-b695-4666-c262-831978d922d0"
      },
      "outputs": [
        {
          "name": "stdout",
          "output_type": "stream",
          "text": [
            "step              0\n",
            "type              0\n",
            "amount            0\n",
            "nameOrig          0\n",
            "oldbalanceOrg     0\n",
            "newbalanceOrig    0\n",
            "nameDest          0\n",
            "oldbalanceDest    1\n",
            "newbalanceDest    1\n",
            "isFraud           1\n",
            "isFlaggedFraud    1\n",
            "dtype: int64\n"
          ]
        }
      ],
      "source": [
        "print(df.isnull().sum())"
      ]
    },
    {
      "cell_type": "code",
      "execution_count": 6,
      "metadata": {
        "colab": {
          "base_uri": "https://localhost:8080/"
        },
        "id": "w5Bt4x-Un2fI",
        "outputId": "b9f00770-cb57-4cd8-8887-99d5051a7b58"
      },
      "outputs": [
        {
          "name": "stdout",
          "output_type": "stream",
          "text": [
            "               step        amount  oldbalanceOrg  newbalanceOrig  \\\n",
            "count  42271.000000  4.227100e+04   4.227100e+04    4.227100e+04   \n",
            "mean       7.171087  1.490108e+05   7.727734e+05    7.874065e+05   \n",
            "std        2.118037  3.145005e+05   2.284003e+06    2.321941e+06   \n",
            "min        1.000000  1.770000e+00   0.000000e+00    0.000000e+00   \n",
            "25%        7.000000  7.031875e+03   0.000000e+00    0.000000e+00   \n",
            "50%        8.000000  2.751283e+04   1.856733e+04    3.339900e+02   \n",
            "75%        8.000000  1.794321e+05   1.421965e+05    1.500335e+05   \n",
            "max        9.000000  1.000000e+07   2.854724e+07    2.861740e+07   \n",
            "\n",
            "       oldbalanceDest  newbalanceDest       isFraud  isFlaggedFraud  \n",
            "count    4.227000e+04    4.227000e+04  42270.000000         42270.0  \n",
            "mean     8.450982e+05    1.158405e+06      0.002224             0.0  \n",
            "std      2.466743e+06    2.960508e+06      0.047105             0.0  \n",
            "min      0.000000e+00    0.000000e+00      0.000000             0.0  \n",
            "25%      0.000000e+00    0.000000e+00      0.000000             0.0  \n",
            "50%      0.000000e+00    0.000000e+00      0.000000             0.0  \n",
            "75%      4.337969e+05    8.013660e+05      0.000000             0.0  \n",
            "max      2.958454e+07    3.130692e+07      1.000000             0.0  \n"
          ]
        }
      ],
      "source": [
        "print(df.describe())"
      ]
    },
    {
      "cell_type": "markdown",
      "metadata": {
        "id": "2G1EovMopG2S"
      },
      "source": [
        "> ## 🧹 3. Data Cleaning & Preprocessing\n",
        "* Removing unnecessary columns such as IDs and steps. Encoding categorical variables and engineering additional features to aid model performance."
      ]
    },
    {
      "cell_type": "code",
      "execution_count": 7,
      "metadata": {
        "id": "_yKHWhwFn410"
      },
      "outputs": [],
      "source": [
        "for col in ['nameOrig', 'nameDest', 'step', 'isFlaggedFraud']:\n",
        "    if col in df.columns:\n",
        "        df.drop(col, axis=1, inplace=True)\n"
      ]
    },
    {
      "cell_type": "markdown",
      "metadata": {
        "id": "TEJ6F9-xpAwp"
      },
      "source": [
        "### 🔄 Encoding Categorical Features\n",
        "* Convert transaction type to numerical format using one-hot encoding."
      ]
    },
    {
      "cell_type": "code",
      "execution_count": 8,
      "metadata": {
        "id": "9fe_XSuRn7aL"
      },
      "outputs": [],
      "source": [
        "if 'type' in df.columns:\n",
        "    df = pd.get_dummies(df, columns=['type'], drop_first=True)"
      ]
    },
    {
      "cell_type": "markdown",
      "metadata": {
        "id": "00XupJszo-jZ"
      },
      "source": [
        "### 🧮 Feature Engineering\n",
        "* Create new features like the difference in balances and zero-balance indicators to enhance signal for fraud detection."
      ]
    },
    {
      "cell_type": "code",
      "execution_count": 9,
      "metadata": {
        "id": "Whx5eOI3n9XZ"
      },
      "outputs": [],
      "source": [
        "balance_cols = ['oldbalanceOrg', 'newbalanceOrig', 'oldbalanceDest', 'newbalanceDest']\n",
        "if all(col in df.columns for col in balance_cols):\n",
        "    df['diffOrig'] = df['oldbalanceOrg'] - df['newbalanceOrig']\n",
        "    df['diffDest'] = df['newbalanceDest'] - df['oldbalanceDest']\n",
        "    df['isOrigBalanceZero'] = (df['oldbalanceOrg'] == 0).astype(int)\n",
        "    df['isDestBalanceZero'] = (df['oldbalanceDest'] == 0).astype(int)"
      ]
    },
    {
      "cell_type": "markdown",
      "metadata": {
        "id": "vCyTrjSYo7To"
      },
      "source": [
        "### 🚫 Handling Missing Values\n",
        "* Drop rows where the target (`isFraud`) is missing."
      ]
    },
    {
      "cell_type": "code",
      "execution_count": 10,
      "metadata": {
        "colab": {
          "base_uri": "https://localhost:8080/"
        },
        "id": "t8-xZIzKn-9v",
        "outputId": "62d56ccd-1cf5-409d-c28f-1ed3a04c585c"
      },
      "outputs": [
        {
          "name": "stdout",
          "output_type": "stream",
          "text": [
            "⚠️ Dropping 1 rows with missing target label.\n",
            "✅ Final dataset shape after cleaning: (42270, 14)\n"
          ]
        }
      ],
      "source": [
        "if df['isFraud'].isnull().sum() > 0:\n",
        "    print(f\"⚠️ Dropping {df['isFraud'].isnull().sum()} rows with missing target label.\")\n",
        "    df = df[df['isFraud'].notna()]\n",
        "\n",
        "print(f\"✅ Final dataset shape after cleaning: {df.shape}\")"
      ]
    },
    {
      "cell_type": "markdown",
      "metadata": {
        "id": "fL0dS17So5Sk"
      },
      "source": [
        "> ## 📊 4. Exploratory Data Analysis (EDA)\n",
        "* Visualizing class distribution and amount distribution to understand the nature of fraud vs non-fraud transactions."
      ]
    },
    {
      "cell_type": "code",
      "execution_count": 46,
      "id": "ae2b0bac",
      "metadata": {},
      "outputs": [
        {
          "data": {
            "image/png": "[encoded data removed]",
            "text/plain": [
              "<Figure size 1000x600 with 1 Axes>"
            ]
          },
          "metadata": {},
          "output_type": "display_data"
        }
      ],
      "source": [
        "plt.rcParams['figure.figsize'] = (10, 6)\n",
        "sns.countplot(x='isFraud', data=df)\n",
        "plt.title(\"Fraud vs Not Fraud Distribution\")\n",
        "plt.savefig('fraud_distribution.png', dpi=300, bbox_inches='tight')\n",
        "plt.show()"
      ]
    },
    {
      "cell_type": "markdown",
      "metadata": {
        "id": "ejIMriu_o2zd"
      },
      "source": [
        "### 💰 Transaction Amount Distribution\n",
        "* Visualizing how the transaction amounts differ between fraudulent and non-fraudulent transactions. The y-axis is log-scaled to handle skewed data."
      ]
    },
    {
      "cell_type": "code",
      "execution_count": 47,
      "id": "650e65e0",
      "metadata": {},
      "outputs": [
        {
          "data": {
            "image/png": "[encoded data removed]",
            "text/plain": [
              "<Figure size 1000x600 with 1 Axes>"
            ]
          },
          "metadata": {},
          "output_type": "display_data"
        }
      ],
      "source": [
        "if 'amount' in df.columns:\n",
        "    sample_df = df.sample(n=50000, random_state=42) if len(df) > 100000 else df\n",
        "    sns.histplot(sample_df[sample_df['isFraud'] == 1]['amount'], bins=50, label='Fraud', color='red', alpha=0.6)\n",
        "    sns.histplot(sample_df[sample_df['isFraud'] == 0]['amount'], bins=50, label='Not Fraud', color='blue', alpha=0.6)\n",
        "    plt.title('Amount Distribution by Class')\n",
        "    plt.legend()\n",
        "    plt.yscale('log')\n",
        "    plt.savefig('amount_distribution.png', dpi=300, bbox_inches='tight')\n",
        "    plt.show()"
      ]
    },
    {
      "cell_type": "markdown",
      "metadata": {
        "id": "3nyhIIKZo0gt"
      },
      "source": [
        "> ## 🏗️ 5. Feature Selection and Train-Test Split\n",
        "* Separating features and target, and splitting the data into training and testing sets. Sampling is done for large datasets to optimize training time.\n"
      ]
    },
    {
      "cell_type": "code",
      "execution_count": 13,
      "metadata": {
        "id": "1xWaRyWZoD8n"
      },
      "outputs": [],
      "source": [
        "X = df.drop('isFraud', axis=1)\n",
        "y = df['isFraud']\n",
        "\n",
        "if len(df) > 1000000:\n",
        "    print(\"Its a Large Dataset. So, Using 500k sample for training.\")\n",
        "        # Create stratified sample of 500k rows using sklearn\n",
        "    df_sample, _ = train_test_split(\n",
        "        df,\n",
        "        train_size=500000,\n",
        "        stratify=df['isFraud'],\n",
        "        random_state=42\n",
        "    )\n",
        "    X = df_sample.drop('isFraud', axis=1)\n",
        "    y = df_sample['isFraud']\n",
        "\n",
        "# Final check for NaN in target\n",
        "y = y.fillna(0)"
      ]
    },
    {
      "cell_type": "code",
      "execution_count": 14,
      "metadata": {
        "id": "5Uj03MPooGsG"
      },
      "outputs": [],
      "source": [
        "X_train, X_test, y_train, y_test = train_test_split(X, y, stratify=y, test_size=0.2, random_state=42)"
      ]
    },
    {
      "cell_type": "markdown",
      "metadata": {
        "id": "hUv52KGFoxNh"
      },
      "source": [
        "> ## 🤖 6. Model Training - Random Forest\n",
        "* Training a Random Forest classifier with tuned hyperparameters to handle imbalanced data and prevent overfitting.\n"
      ]
    },
    {
      "cell_type": "code",
      "execution_count": 15,
      "metadata": {
        "colab": {
          "base_uri": "https://localhost:8080/",
          "height": 115
        },
        "id": "IPj-vP7LoJC2",
        "outputId": "cb4d9b94-df7a-4e7f-c206-c6f8ba1e8056"
      },
      "outputs": [
        {
          "data": {
            "text/html": [
              "<style>#sk-container-id-1 {\n",
              "  /* Definition of color scheme common for light and dark mode */\n",
              "  --sklearn-color-text: #000;\n",
              "  --sklearn-color-text-muted: #666;\n",
              "  --sklearn-color-line: gray;\n",
              "  /* Definition of color scheme for unfitted estimators */\n",
              "  --sklearn-color-unfitted-level-0: #fff5e6;\n",
              "  --sklearn-color-unfitted-level-1: #f6e4d2;\n",
              "  --sklearn-color-unfitted-level-2: #ffe0b3;\n",
              "  --sklearn-color-unfitted-level-3: chocolate;\n",
              "  /* Definition of color scheme for fitted estimators */\n",
              "  --sklearn-color-fitted-level-0: #f0f8ff;\n",
              "  --sklearn-color-fitted-level-1: #d4ebff;\n",
              "  --sklearn-color-fitted-level-2: #b3dbfd;\n",
              "  --sklearn-color-fitted-level-3: cornflowerblue;\n",
              "\n",
              "  /* Specific color for light theme */\n",
              "  --sklearn-color-text-on-default-background: var(--sg-text-color, var(--theme-code-foreground, var(--jp-content-font-color1, black)));\n",
              "  --sklearn-color-background: var(--sg-background-color, var(--theme-background, var(--jp-layout-color0, white)));\n",
              "  --sklearn-color-border-box: var(--sg-text-color, var(--theme-code-foreground, var(--jp-content-font-color1, black)));\n",
              "  --sklearn-color-icon: #696969;\n",
              "\n",
              "  @media (prefers-color-scheme: dark) {\n",
              "    /* Redefinition of color scheme for dark theme */\n",
              "    --sklearn-color-text-on-default-background: var(--sg-text-color, var(--theme-code-foreground, var(--jp-content-font-color1, white)));\n",
              "    --sklearn-color-background: var(--sg-background-color, var(--theme-background, var(--jp-layout-color0, #111)));\n",
              "    --sklearn-color-border-box: var(--sg-text-color, var(--theme-code-foreground, var(--jp-content-font-color1, white)));\n",
              "    --sklearn-color-icon: #878787;\n",
              "  }\n",
              "}\n",
              "\n",
              "#sk-container-id-1 {\n",
              "  color: var(--sklearn-color-text);\n",
              "}\n",
              "\n",
              "#sk-container-id-1 pre {\n",
              "  padding: 0;\n",
              "}\n",
              "\n",
              "#sk-container-id-1 input.sk-hidden--visually {\n",
              "  border: 0;\n",
              "  clip: rect(1px 1px 1px 1px);\n",
              "  clip: rect(1px, 1px, 1px, 1px);\n",
              "  height: 1px;\n",
              "  margin: -1px;\n",
              "  overflow: hidden;\n",
              "  padding: 0;\n",
              "  position: absolute;\n",
              "  width: 1px;\n",
              "}\n",
              "\n",
              "#sk-container-id-1 div.sk-dashed-wrapped {\n",
              "  border: 1px dashed var(--sklearn-color-line);\n",
              "  margin: 0 0.4em 0.5em 0.4em;\n",
              "  box-sizing: border-box;\n",
              "  padding-bottom: 0.4em;\n",
              "  background-color: var(--sklearn-color-background);\n",
              "}\n",
              "\n",
              "#sk-container-id-1 div.sk-container {\n",
              "  /* jupyter's `normalize.less` sets `[hidden] { display: none; }`\n",
              "     but bootstrap.min.css set `[hidden] { display: none !important; }`\n",
              "     so we also need the `!important` here to be able to override the\n",
              "     default hidden behavior on the sphinx rendered scikit-learn.org.\n",
              "     See: https://github.com/scikit-learn/scikit-learn/issues/21755 */\n",
              "  display: inline-block !important;\n",
              "  position: relative;\n",
              "}\n",
              "\n",
              "#sk-container-id-1 div.sk-text-repr-fallback {\n",
              "  display: none;\n",
              "}\n",
              "\n",
              "div.sk-parallel-item,\n",
              "div.sk-serial,\n",
              "div.sk-item {\n",
              "  /* draw centered vertical line to link estimators */\n",
              "  background-image: linear-gradient(var(--sklearn-color-text-on-default-background), var(--sklearn-color-text-on-default-background));\n",
              "  background-size: 2px 100%;\n",
              "  background-repeat: no-repeat;\n",
              "  background-position: center center;\n",
              "}\n",
              "\n",
              "/* Parallel-specific style estimator block */\n",
              "\n",
              "#sk-container-id-1 div.sk-parallel-item::after {\n",
              "  content: \"\";\n",
              "  width: 100%;\n",
              "  border-bottom: 2px solid var(--sklearn-color-text-on-default-background);\n",
              "  flex-grow: 1;\n",
              "}\n",
              "\n",
              "#sk-container-id-1 div.sk-parallel {\n",
              "  display: flex;\n",
              "  align-items: stretch;\n",
              "  justify-content: center;\n",
              "  background-color: var(--sklearn-color-background);\n",
              "  position: relative;\n",
              "}\n",
              "\n",
              "#sk-container-id-1 div.sk-parallel-item {\n",
              "  display: flex;\n",
              "  flex-direction: column;\n",
              "}\n",
              "\n",
              "#sk-container-id-1 div.sk-parallel-item:first-child::after {\n",
              "  align-self: flex-end;\n",
              "  width: 50%;\n",
              "}\n",
              "\n",
              "#sk-container-id-1 div.sk-parallel-item:last-child::after {\n",
              "  align-self: flex-start;\n",
              "  width: 50%;\n",
              "}\n",
              "\n",
              "#sk-container-id-1 div.sk-parallel-item:only-child::after {\n",
              "  width: 0;\n",
              "}\n",
              "\n",
              "/* Serial-specific style estimator block */\n",
              "\n",
              "#sk-container-id-1 div.sk-serial {\n",
              "  display: flex;\n",
              "  flex-direction: column;\n",
              "  align-items: center;\n",
              "  background-color: var(--sklearn-color-background);\n",
              "  padding-right: 1em;\n",
              "  padding-left: 1em;\n",
              "}\n",
              "\n",
              "\n",
              "/* Toggleable style: style used for estimator/Pipeline/ColumnTransformer box that is\n",
              "clickable and can be expanded/collapsed.\n",
              "- Pipeline and ColumnTransformer use this feature and define the default style\n",
              "- Estimators will overwrite some part of the style using the `sk-estimator` class\n",
              "*/\n",
              "\n",
              "/* Pipeline and ColumnTransformer style (default) */\n",
              "\n",
              "#sk-container-id-1 div.sk-toggleable {\n",
              "  /* Default theme specific background. It is overwritten whether we have a\n",
              "  specific estimator or a Pipeline/ColumnTransformer */\n",
              "  background-color: var(--sklearn-color-background);\n",
              "}\n",
              "\n",
              "/* Toggleable label */\n",
              "#sk-container-id-1 label.sk-toggleable__label {\n",
              "  cursor: pointer;\n",
              "  display: flex;\n",
              "  width: 100%;\n",
              "  margin-bottom: 0;\n",
              "  padding: 0.5em;\n",
              "  box-sizing: border-box;\n",
              "  text-align: center;\n",
              "  align-items: start;\n",
              "  justify-content: space-between;\n",
              "  gap: 0.5em;\n",
              "}\n",
              "\n",
              "#sk-container-id-1 label.sk-toggleable__label .caption {\n",
              "  font-size: 0.6rem;\n",
              "  font-weight: lighter;\n",
              "  color: var(--sklearn-color-text-muted);\n",
              "}\n",
              "\n",
              "#sk-container-id-1 label.sk-toggleable__label-arrow:before {\n",
              "  /* Arrow on the left of the label */\n",
              "  content: \"▸\";\n",
              "  float: left;\n",
              "  margin-right: 0.25em;\n",
              "  color: var(--sklearn-color-icon);\n",
              "}\n",
              "\n",
              "#sk-container-id-1 label.sk-toggleable__label-arrow:hover:before {\n",
              "  color: var(--sklearn-color-text);\n",
              "}\n",
              "\n",
              "/* Toggleable content - dropdown */\n",
              "\n",
              "#sk-container-id-1 div.sk-toggleable__content {\n",
              "  max-height: 0;\n",
              "  max-width: 0;\n",
              "  overflow: hidden;\n",
              "  text-align: left;\n",
              "  /* unfitted */\n",
              "  background-color: var(--sklearn-color-unfitted-level-0);\n",
              "}\n",
              "\n",
              "#sk-container-id-1 div.sk-toggleable__content.fitted {\n",
              "  /* fitted */\n",
              "  background-color: var(--sklearn-color-fitted-level-0);\n",
              "}\n",
              "\n",
              "#sk-container-id-1 div.sk-toggleable__content pre {\n",
              "  margin: 0.2em;\n",
              "  border-radius: 0.25em;\n",
              "  color: var(--sklearn-color-text);\n",
              "  /* unfitted */\n",
              "  background-color: var(--sklearn-color-unfitted-level-0);\n",
              "}\n",
              "\n",
              "#sk-container-id-1 div.sk-toggleable__content.fitted pre {\n",
              "  /* unfitted */\n",
              "  background-color: var(--sklearn-color-fitted-level-0);\n",
              "}\n",
              "\n",
              "#sk-container-id-1 input.sk-toggleable__control:checked~div.sk-toggleable__content {\n",
              "  /* Expand drop-down */\n",
              "  max-height: 200px;\n",
              "  max-width: 100%;\n",
              "  overflow: auto;\n",
              "}\n",
              "\n",
              "#sk-container-id-1 input.sk-toggleable__control:checked~label.sk-toggleable__label-arrow:before {\n",
              "  content: \"▾\";\n",
              "}\n",
              "\n",
              "/* Pipeline/ColumnTransformer-specific style */\n",
              "\n",
              "#sk-container-id-1 div.sk-label input.sk-toggleable__control:checked~label.sk-toggleable__label {\n",
              "  color: var(--sklearn-color-text);\n",
              "  background-color: var(--sklearn-color-unfitted-level-2);\n",
              "}\n",
              "\n",
              "#sk-container-id-1 div.sk-label.fitted input.sk-toggleable__control:checked~label.sk-toggleable__label {\n",
              "  background-color: var(--sklearn-color-fitted-level-2);\n",
              "}\n",
              "\n",
              "/* Estimator-specific style */\n",
              "\n",
              "/* Colorize estimator box */\n",
              "#sk-container-id-1 div.sk-estimator input.sk-toggleable__control:checked~label.sk-toggleable__label {\n",
              "  /* unfitted */\n",
              "  background-color: var(--sklearn-color-unfitted-level-2);\n",
              "}\n",
              "\n",
              "#sk-container-id-1 div.sk-estimator.fitted input.sk-toggleable__control:checked~label.sk-toggleable__label {\n",
              "  /* fitted */\n",
              "  background-color: var(--sklearn-color-fitted-level-2);\n",
              "}\n",
              "\n",
              "#sk-container-id-1 div.sk-label label.sk-toggleable__label,\n",
              "#sk-container-id-1 div.sk-label label {\n",
              "  /* The background is the default theme color */\n",
              "  color: var(--sklearn-color-text-on-default-background);\n",
              "}\n",
              "\n",
              "/* On hover, darken the color of the background */\n",
              "#sk-container-id-1 div.sk-label:hover label.sk-toggleable__label {\n",
              "  color: var(--sklearn-color-text);\n",
              "  background-color: var(--sklearn-color-unfitted-level-2);\n",
              "}\n",
              "\n",
              "/* Label box, darken color on hover, fitted */\n",
              "#sk-container-id-1 div.sk-label.fitted:hover label.sk-toggleable__label.fitted {\n",
              "  color: var(--sklearn-color-text);\n",
              "  background-color: var(--sklearn-color-fitted-level-2);\n",
              "}\n",
              "\n",
              "/* Estimator label */\n",
              "\n",
              "#sk-container-id-1 div.sk-label label {\n",
              "  font-family: monospace;\n",
              "  font-weight: bold;\n",
              "  display: inline-block;\n",
              "  line-height: 1.2em;\n",
              "}\n",
              "\n",
              "#sk-container-id-1 div.sk-label-container {\n",
              "  text-align: center;\n",
              "}\n",
              "\n",
              "/* Estimator-specific */\n",
              "#sk-container-id-1 div.sk-estimator {\n",
              "  font-family: monospace;\n",
              "  border: 1px dotted var(--sklearn-color-border-box);\n",
              "  border-radius: 0.25em;\n",
              "  box-sizing: border-box;\n",
              "  margin-bottom: 0.5em;\n",
              "  /* unfitted */\n",
              "  background-color: var(--sklearn-color-unfitted-level-0);\n",
              "}\n",
              "\n",
              "#sk-container-id-1 div.sk-estimator.fitted {\n",
              "  /* fitted */\n",
              "  background-color: var(--sklearn-color-fitted-level-0);\n",
              "}\n",
              "\n",
              "/* on hover */\n",
              "#sk-container-id-1 div.sk-estimator:hover {\n",
              "  /* unfitted */\n",
              "  background-color: var(--sklearn-color-unfitted-level-2);\n",
              "}\n",
              "\n",
              "#sk-container-id-1 div.sk-estimator.fitted:hover {\n",
              "  /* fitted */\n",
              "  background-color: var(--sklearn-color-fitted-level-2);\n",
              "}\n",
              "\n",
              "/* Specification for estimator info (e.g. \"i\" and \"?\") */\n",
              "\n",
              "/* Common style for \"i\" and \"?\" */\n",
              "\n",
              ".sk-estimator-doc-link,\n",
              "a:link.sk-estimator-doc-link,\n",
              "a:visited.sk-estimator-doc-link {\n",
              "  float: right;\n",
              "  font-size: smaller;\n",
              "  line-height: 1em;\n",
              "  font-family: monospace;\n",
              "  background-color: var(--sklearn-color-background);\n",
              "  border-radius: 1em;\n",
              "  height: 1em;\n",
              "  width: 1em;\n",
              "  text-decoration: none !important;\n",
              "  margin-left: 0.5em;\n",
              "  text-align: center;\n",
              "  /* unfitted */\n",
              "  border: var(--sklearn-color-unfitted-level-1) 1pt solid;\n",
              "  color: var(--sklearn-color-unfitted-level-1);\n",
              "}\n",
              "\n",
              ".sk-estimator-doc-link.fitted,\n",
              "a:link.sk-estimator-doc-link.fitted,\n",
              "a:visited.sk-estimator-doc-link.fitted {\n",
              "  /* fitted */\n",
              "  border: var(--sklearn-color-fitted-level-1) 1pt solid;\n",
              "  color: var(--sklearn-color-fitted-level-1);\n",
              "}\n",
              "\n",
              "/* On hover */\n",
              "div.sk-estimator:hover .sk-estimator-doc-link:hover,\n",
              ".sk-estimator-doc-link:hover,\n",
              "div.sk-label-container:hover .sk-estimator-doc-link:hover,\n",
              ".sk-estimator-doc-link:hover {\n",
              "  /* unfitted */\n",
              "  background-color: var(--sklearn-color-unfitted-level-3);\n",
              "  color: var(--sklearn-color-background);\n",
              "  text-decoration: none;\n",
              "}\n",
              "\n",
              "div.sk-estimator.fitted:hover .sk-estimator-doc-link.fitted:hover,\n",
              ".sk-estimator-doc-link.fitted:hover,\n",
              "div.sk-label-container:hover .sk-estimator-doc-link.fitted:hover,\n",
              ".sk-estimator-doc-link.fitted:hover {\n",
              "  /* fitted */\n",
              "  background-color: var(--sklearn-color-fitted-level-3);\n",
              "  color: var(--sklearn-color-background);\n",
              "  text-decoration: none;\n",
              "}\n",
              "\n",
              "/* Span, style for the box shown on hovering the info icon */\n",
              ".sk-estimator-doc-link span {\n",
              "  display: none;\n",
              "  z-index: 9999;\n",
              "  position: relative;\n",
              "  font-weight: normal;\n",
              "  right: .2ex;\n",
              "  padding: .5ex;\n",
              "  margin: .5ex;\n",
              "  width: min-content;\n",
              "  min-width: 20ex;\n",
              "  max-width: 50ex;\n",
              "  color: var(--sklearn-color-text);\n",
              "  box-shadow: 2pt 2pt 4pt #999;\n",
              "  /* unfitted */\n",
              "  background: var(--sklearn-color-unfitted-level-0);\n",
              "  border: .5pt solid var(--sklearn-color-unfitted-level-3);\n",
              "}\n",
              "\n",
              ".sk-estimator-doc-link.fitted span {\n",
              "  /* fitted */\n",
              "  background: var(--sklearn-color-fitted-level-0);\n",
              "  border: var(--sklearn-color-fitted-level-3);\n",
              "}\n",
              "\n",
              ".sk-estimator-doc-link:hover span {\n",
              "  display: block;\n",
              "}\n",
              "\n",
              "/* \"?\"-specific style due to the `<a>` HTML tag */\n",
              "\n",
              "#sk-container-id-1 a.estimator_doc_link {\n",
              "  float: right;\n",
              "  font-size: 1rem;\n",
              "  line-height: 1em;\n",
              "  font-family: monospace;\n",
              "  background-color: var(--sklearn-color-background);\n",
              "  border-radius: 1rem;\n",
              "  height: 1rem;\n",
              "  width: 1rem;\n",
              "  text-decoration: none;\n",
              "  /* unfitted */\n",
              "  color: var(--sklearn-color-unfitted-level-1);\n",
              "  border: var(--sklearn-color-unfitted-level-1) 1pt solid;\n",
              "}\n",
              "\n",
              "#sk-container-id-1 a.estimator_doc_link.fitted {\n",
              "  /* fitted */\n",
              "  border: var(--sklearn-color-fitted-level-1) 1pt solid;\n",
              "  color: var(--sklearn-color-fitted-level-1);\n",
              "}\n",
              "\n",
              "/* On hover */\n",
              "#sk-container-id-1 a.estimator_doc_link:hover {\n",
              "  /* unfitted */\n",
              "  background-color: var(--sklearn-color-unfitted-level-3);\n",
              "  color: var(--sklearn-color-background);\n",
              "  text-decoration: none;\n",
              "}\n",
              "\n",
              "#sk-container-id-1 a.estimator_doc_link.fitted:hover {\n",
              "  /* fitted */\n",
              "  background-color: var(--sklearn-color-fitted-level-3);\n",
              "}\n",
              "</style><div id=\"sk-container-id-1\" class=\"sk-top-container\"><div class=\"sk-text-repr-fallback\"><pre>RandomForestClassifier(class_weight=&#x27;balanced&#x27;, max_depth=15,\n",
              "                       min_samples_split=10, n_estimators=200, n_jobs=-1,\n",
              "                       random_state=42)</pre><b>In a Jupyter environment, please rerun this cell to show the HTML representation or trust the notebook. <br />On GitHub, the HTML representation is unable to render, please try loading this page with nbviewer.org.</b></div><div class=\"sk-container\" hidden><div class=\"sk-item\"><div class=\"sk-estimator fitted sk-toggleable\"><input class=\"sk-toggleable__control sk-hidden--visually\" id=\"sk-estimator-id-1\" type=\"checkbox\" checked><label for=\"sk-estimator-id-1\" class=\"sk-toggleable__label fitted sk-toggleable__label-arrow\"><div><div>RandomForestClassifier</div></div><div><a class=\"sk-estimator-doc-link fitted\" rel=\"noreferrer\" target=\"_blank\" href=\"https://scikit-learn.org/1.6/modules/generated/sklearn.ensemble.RandomForestClassifier.html\">?<span>Documentation for RandomForestClassifier</span></a><span class=\"sk-estimator-doc-link fitted\">i<span>Fitted</span></span></div></label><div class=\"sk-toggleable__content fitted\"><pre>RandomForestClassifier(class_weight=&#x27;balanced&#x27;, max_depth=15,\n",
              "                       min_samples_split=10, n_estimators=200, n_jobs=-1,\n",
              "                       random_state=42)</pre></div> </div></div></div></div>"
            ],
            "text/plain": [
              "RandomForestClassifier(class_weight='balanced', max_depth=15,\n",
              "                       min_samples_split=10, n_estimators=200, n_jobs=-1,\n",
              "                       random_state=42)"
            ]
          },
          "execution_count": 15,
          "metadata": {},
          "output_type": "execute_result"
        }
      ],
      "source": [
        "rf_model = RandomForestClassifier(\n",
        "    n_estimators=200,\n",
        "    max_depth=15,\n",
        "    min_samples_split=10,\n",
        "    class_weight='balanced',\n",
        "    n_jobs=-1,\n",
        "    random_state=42\n",
        ")\n",
        "rf_model.fit(X_train, y_train)"
      ]
    },
    {
      "cell_type": "markdown",
      "metadata": {
        "id": "fdRakxOIosrJ"
      },
      "source": [
        "### 📈 Predictions and Evaluation\n",
        "* Generating predictions and evaluating model performance using classification metrics.\n"
      ]
    },
    {
      "cell_type": "code",
      "execution_count": 16,
      "metadata": {
        "colab": {
          "base_uri": "https://localhost:8080/"
        },
        "id": "22u2o13AoKVV",
        "outputId": "37bd30a6-0459-406c-eace-418e34eb17ba"
      },
      "outputs": [
        {
          "name": "stdout",
          "output_type": "stream",
          "text": [
            "\n",
            "Classification Report:\n",
            "               precision    recall  f1-score   support\n",
            "\n",
            "         0.0       1.00      1.00      1.00      8435\n",
            "         1.0       0.93      0.68      0.79        19\n",
            "\n",
            "    accuracy                           1.00      8454\n",
            "   macro avg       0.96      0.84      0.89      8454\n",
            "weighted avg       1.00      1.00      1.00      8454\n",
            "\n",
            "\n",
            "ROC AUC Score: 0.9992699591301906\n"
          ]
        }
      ],
      "source": [
        "y_pred_rf = rf_model.predict(X_test)\n",
        "y_probs_rf = rf_model.predict_proba(X_test)[:, 1]\n",
        "\n",
        "print(\"\\nClassification Report:\\n\", classification_report(y_test, y_pred_rf))\n",
        "print(\"\\nROC AUC Score:\", roc_auc_score(y_test, y_probs_rf))"
      ]
    },
    {
      "cell_type": "markdown",
      "metadata": {
        "id": "0C0fH0OkopGR"
      },
      "source": [
        "### 📉 Confusion Matrix\n",
        "* Visual representation of True Positive, False Positive, True Negative, and False Negative counts.\n"
      ]
    },
    {
      "cell_type": "code",
      "execution_count": 17,
      "metadata": {
        "colab": {
          "base_uri": "https://localhost:8080/",
          "height": 545
        },
        "id": "RMccB5VjoMBD",
        "outputId": "21236650-b82f-4ccb-ee0d-5c99357772cf"
      },
      "outputs": [
        {
          "data": {
            "image/png": "[encoded data removed]",
            "text/plain": [
              "<Figure size 1000x600 with 2 Axes>"
            ]
          },
          "metadata": {},
          "output_type": "display_data"
        }
      ],
      "source": [
        "plt.figure()\n",
        "sns.heatmap(confusion_matrix(y_test, y_pred_rf), annot=True, fmt=\"d\", cmap=\"Blues\")\n",
        "plt.title(\"Confusion Matrix\")\n",
        "plt.savefig('confusion_matrix.png', dpi=300, bbox_inches='tight')\n",
        "plt.show()"
      ]
    },
    {
      "cell_type": "markdown",
      "metadata": {
        "id": "kyZMnFwVom1C"
      },
      "source": [
        "### 📈 ROC Curve\n",
        "* Plotting the Receiver Operating Characteristic curve to visualize model's ability to distinguish classes.\n"
      ]
    },
    {
      "cell_type": "code",
      "execution_count": 18,
      "metadata": {
        "colab": {
          "base_uri": "https://localhost:8080/",
          "height": 564
        },
        "id": "x4nzyfLloOER",
        "outputId": "d27d7bfe-06f7-4f82-80fb-92e79888bec9"
      },
      "outputs": [
        {
          "data": {
            "image/png": "[encoded data removed]",
            "text/plain": [
              "<Figure size 1000x600 with 1 Axes>"
            ]
          },
          "metadata": {},
          "output_type": "display_data"
        }
      ],
      "source": [
        "fpr, tpr, _ = roc_curve(y_test, y_probs_rf)\n",
        "plt.figure()\n",
        "plt.plot(fpr, tpr, label=f\"ROC Curve (AUC = {roc_auc_score(y_test, y_probs_rf):.3f})\")\n",
        "plt.plot([0, 1], [0, 1], linestyle='--')\n",
        "plt.xlabel(\"False Positive Rate\")\n",
        "plt.ylabel(\"True Positive Rate\")\n",
        "plt.title(\"ROC Curve\")\n",
        "plt.legend()\n",
        "plt.savefig('roc_curve.png', dpi=300, bbox_inches='tight')\n",
        "plt.show()"
      ]
    },
    {
      "cell_type": "markdown",
      "metadata": {
        "id": "bi3DgFUaoiZd"
      },
      "source": [
        "> ## 📌 7. Feature Importance\n",
        "* Displaying the top features contributing to the model’s decisions, helping understand what factors are most predictive of fraud.\n"
      ]
    },
    {
      "cell_type": "code",
      "execution_count": 19,
      "metadata": {
        "colab": {
          "base_uri": "https://localhost:8080/",
          "height": 607
        },
        "id": "ytctWebwoQsT",
        "outputId": "129bfdd3-2bb9-4552-cc34-b9b8a97aa062"
      },
      "outputs": [
        {
          "data": {
            "image/png": "[encoded data removed]",
            "text/plain": [
              "<Figure size 1000x600 with 1 Axes>"
            ]
          },
          "metadata": {},
          "output_type": "display_data"
        }
      ],
      "source": [
        "feat_imp = pd.Series(rf_model.feature_importances_, index=X.columns).sort_values(ascending=False)\n",
        "feat_imp.head(15).plot(kind='barh')\n",
        "plt.title(\"Top 15 Feature Importances\")\n",
        "plt.tight_layout()\n",
        "plt.savefig('feature_importance.png', dpi=300, bbox_inches='tight')\n",
        "plt.show()"
      ]
    },
    {
      "cell_type": "markdown",
      "metadata": {
        "id": "8Mpm5PI7oX3R"
      },
      "source": [
        "> # 📖 Assignment Q&A Section"
      ]
    },
    {
      "cell_type": "markdown",
      "metadata": {},
      "source": [
        "## **Q1. Data Cleaning (Missing values, Outliers, Multicollinearity)**\n",
        "\n",
        "* ✅ **Missing Values:**\n",
        "\n",
        "  * We checked all columns for null (missing) values using `.isnull().sum()`.\n",
        "  * Only a few rows had missing values in the target column `isFraud`.\n",
        "  * Those rows were **removed**, since we can't train a model without knowing if a transaction was fraud or not.\n",
        "\n",
        "* ✅ **Outliers:**\n",
        "  * Fraud datasets can have **large `amount` values** that might look like outliers, but:\n",
        "    > 💬 \"In fraud detection, big values are not always outliers — they could be fraud signals.\"\n",
        "  \n",
        "  * Instead of removing them, you handled them wisely:\n",
        "    * Used **log scale** in visualizations (`plt.yscale('log')`)\n",
        "    * Used **RandomForest**, which is robust to outliers\n",
        "\n",
        "\n",
        "* ✅ **Multicollinearity:**\n",
        "\n",
        "  * Created new engineered features:\n",
        "\n",
        "    * `diffOrig = oldbalanceOrg - newbalanceOrig`\n",
        "    * `diffDest = newbalanceDest - oldbalanceDest`\n",
        "\n",
        "  * ✔️ You avoided keeping both original & derived columns, which **reduces multicollinearity**.\n",
        "\n",
        "  * Model used: **Random Forest** — tree-based models are **not affected much** by multicollinearity, so you didn't need to drop features.\n",
        "\n",
        "---"
      ]
    },
    {
      "cell_type": "markdown",
      "metadata": {},
      "source": [
        "## **Q2. Describe your Fraud Detection Model**\n",
        "\n",
        "We used the **RandomForestClassifier**, because:\n",
        "\n",
        "### **🔹 Why Random Forest?**\n",
        "* It works well with **imbalanced datasets**\n",
        "* Handles **non-linear relationships** and feature interactions\n",
        "* Automatically shows **feature importance**\n",
        "* Less sensitive to outliers and missing values (which helps in fraud detection)\n",
        "* It is an **ensemble model**: builds many decision trees and combines their outputs.\n",
        "* Reduces overfitting by averaging multiple trees.\n",
        "* It’s interpretable and works well without complex preprocessing.\n",
        "\n",
        "### **🔹How it works:**\n",
        "\n",
        "* Random Forest builds many decision trees and combines their results.\n",
        "* Each tree votes \"fraud\" or \"not fraud\", and the majority wins.\n",
        "* Trees are trained on random samples of data to avoid overfitting.\n",
        "\n",
        "### **🔹 How You Trained the Model:**\n",
        "\n",
        "1. **Cleaned and Prepared Data:**\n",
        "\n",
        "   * Removed useless columns (like names)\n",
        "   * Encoded transaction type (like TRANSFER, PAYMENT)\n",
        "   * Created new features (balance differences, zero-balance flags)\n",
        "\n",
        "2. **Sampled the Data:**\n",
        "\n",
        "   * Used a **500,000 row stratified sample** for faster training on large dataset.\n",
        "\n",
        "3. **Train-Test Split:**\n",
        "\n",
        "   * 80% training, 20% testing\n",
        "   * Used `stratify=y` to ensure fraud samples are fairly distributed\n",
        "\n",
        "4. **Model Initialization:**\n",
        "\n",
        "   ```python\n",
        "   rf_model = RandomForestClassifier(\n",
        "       n_estimators=200,\n",
        "       max_depth=15,\n",
        "       min_samples_split=10,\n",
        "       class_weight='balanced',\n",
        "       n_jobs=-1,\n",
        "       random_state=42\n",
        "   )\n",
        "   ```\n",
        "\n",
        "   * `n_estimators=200`: uses 200 trees\n",
        "   * `max_depth=15`: prevents overfitting\n",
        "   * `class_weight='balanced'`: helps deal with imbalance between fraud and non-fraud\n",
        "\n",
        "5. **Training:**\n",
        "\n",
        "   * Used `.fit(X_train, y_train)` to train the model.\n",
        "\n",
        "6. **Prediction:**\n",
        "\n",
        "   * `.predict()` to get predicted labels\n",
        "   * `.predict_proba()` for ROC and probability scores\n",
        "\n",
        "\n",
        "---"
      ]
    },
    {
      "cell_type": "markdown",
      "metadata": {},
      "source": [
        "## **Q3. How did you select variables (features)?**\n",
        "### 🔹 1. **Started with Raw Dataset Columns**\n",
        "\n",
        "Original columns included:\n",
        "\n",
        "* `step`, `type`, `amount`, `nameOrig`, `oldbalanceOrg`, `newbalanceOrig`,\n",
        "  `nameDest`, `oldbalanceDest`, `newbalanceDest`, `isFraud`, `isFlaggedFraud`\n",
        "\n",
        "### 🔹 2. **Dropped Irrelevant or Noisy Columns**\n",
        "\n",
        "I removed these:\n",
        "\n",
        "* `nameOrig`, `nameDest`: these are IDs, not useful for modeling.\n",
        "* `step`: just a time index — not helpful for patterns.\n",
        "* `isFlaggedFraud`: always 0 — no variation → not useful.\n",
        "\n",
        "### 🔹 3. **Encoded Categorical Variable `type`**\n",
        "\n",
        "You used **one-hot encoding**:\n",
        "\n",
        "```python\n",
        "df = pd.get_dummies(df, columns=['type'], drop_first=True)\n",
        "```\n",
        "\n",
        "This converted `type` into binary flags:\n",
        "\n",
        "* `type_CASH_OUT`, `type_PAYMENT`, `type_TRANSFER`, etc.\n",
        "\n",
        "### 🔹 4. **Feature Engineering: Created New Variables**\n",
        "\n",
        "You created **new features** to highlight fraud behavior:\n",
        "\n",
        "* `diffOrig = oldbalanceOrg - newbalanceOrig`: shows how much was removed from sender.\n",
        "* `diffDest = newbalanceDest - oldbalanceDest`: shows how much was added to receiver.\n",
        "* `isOrigBalanceZero = (oldbalanceOrg == 0)`: flags if sender had zero balance.\n",
        "* `isDestBalanceZero = (oldbalanceDest == 0)`: flags if receiver had zero balance.\n",
        "\n",
        "✅ These capture **fraud logic** like sudden withdrawals or empty account transfers.\n",
        "\n",
        "### 🔹 5. **Checked Feature Importance from Model**\n",
        "\n",
        "* You used **RandomForestClassifier**, which automatically gives **feature\\_importance\\_**\n",
        "* Based on that, you confirmed that `amount`, `type_TRANSFER`, `diffOrig` and `isOrigBalanceZero` were the most important.\n",
        "\n",
        "---"
      ]
    },
    {
      "cell_type": "markdown",
      "metadata": {},
      "source": [
        "## **Q4. How well did your model perform?**\n",
        "\n",
        "#### ✅ **Overall Model Results:**\n",
        "\n",
        "| Metric                | Value     | What it Means                                                                |\n",
        "| --------------------- | --------- | ---------------------------------------------------------------------------- |\n",
        "| **Accuracy**          | 100%      | The model predicted almost all transactions correctly.                       |\n",
        "| **ROC AUC Score**     | **0.999** | Outstanding! The model almost perfectly separates fraud vs. non-fraud cases. |\n",
        "| **F1-Score (Fraud)**  | 0.79      | Balanced measure of precision and recall for fraud cases.                    |\n",
        "| **Precision (Fraud)** | 0.93      | 93% of predicted frauds were actually fraud. Very few false positives.       |\n",
        "| **Recall (Fraud)**    | 0.68      | Model caught 68% of all real frauds — needs improvement for full coverage.   |\n",
        "\n",
        "---\n",
        "\n",
        "#### 🔍 What this tells us:\n",
        "\n",
        "* ✅ The model performs **extremely well** for detecting **normal (non-fraud)** transactions — near 100% precision and recall.\n",
        "* ✅ For **fraud detection**, the model is:\n",
        "\n",
        "  * **Very precise** (few false alarms)\n",
        "  * But **moderately sensitive** (some frauds missed – recall 68%)\n",
        "* ✅ **ROC AUC of 0.999** is **exceptional** — model has almost perfect separation between fraud and non-fraud.\n",
        "\n",
        "---\n"
      ]
    },
    {
      "cell_type": "markdown",
      "metadata": {
        "id": "Kv9QFp2Dob7O"
      },
      "source": [
        "## **Q5. What are the key predictors of fraud?**\n",
        "\n",
        "### 🔑 1. `type_TRANSFER` *(from one-hot encoding)*\n",
        "\n",
        "* Transactions marked as `TRANSFER` are **highly correlated with fraud**.\n",
        "* In the dataset, most frauds are **not from normal payments** but from **inter-account transfers**.\n",
        "* Model learned this pattern well — this feature gets high importance in Random Forest.\n",
        "\n",
        "### 🔑 2. `amount`\n",
        "\n",
        "* Fraudulent transactions tend to involve **high-value amounts**.\n",
        "* Your model finds `amount` as a strong indicator — it often helps differentiate between casual payments vs high-risk transfers.\n",
        "* This was confirmed by your **EDA**: fraud amounts skewed higher.\n",
        "\n",
        "### 🔑 3. `diffOrig = oldbalanceOrg - newbalanceOrig`\n",
        "\n",
        "* This feature you created shows **how much money was deducted from the sender**.\n",
        "* In fraud, this is usually a **complete balance wipe** — strong red flag.\n",
        "* Random Forest used this feature heavily.\n",
        "\n",
        "### 🔑 4. `isOrigBalanceZero`\n",
        "\n",
        "* This derived binary feature flags whether the **sender had zero balance before the transaction**.\n",
        "* In many fraud cases, balance is **emptied in one go** or starts with suspicious patterns like sudden deposits.\n",
        "* Simple, but powerful fraud pattern.\n",
        "\n",
        "### 🔑 5. `diffDest = newbalanceDest - oldbalanceDest`\n",
        "\n",
        "* This measures **how much was added to the receiver’s account**.\n",
        "* In frauds, the receiver is usually a **new or dummy account**, starting at 0.\n",
        "* This helps catch **destination account manipulation**.\n",
        "\n",
        "\n",
        "### ✅ How we know these are important:\n",
        "\n",
        "* These were engineered and selected by you manually in the notebook.\n",
        "* RandomForestClassifier automatically gave **high importance** to:\n",
        "\n",
        "  * `amount`\n",
        "  * `type_TRANSFER`\n",
        "  * `diffOrig`, `diffDest`\n",
        "  * `isOrigBalanceZero`\n",
        "* You’ve also visualized `amount` and `isFraud`, confirming this relationship.\n",
        "\n",
        "---"
      ]
    },
    {
      "cell_type": "markdown",
      "metadata": {},
      "source": [
        "## **Q6. Do these factors make sense?**\n",
        "\n",
        "### 🔹 Yes, the key predictors of fraud **do make real-world sense** — both statistically and logically.\n",
        "\n",
        "### 🔸 1. `type_TRANSFER` and `type_CASH_OUT`\n",
        "\n",
        "> These were top predictors according to model’s feature importance & SHAP.\n",
        "\n",
        "✅ Makes sense because:\n",
        "\n",
        "* Most frauds happen during **TRANSFER** (money sent to fraud account)\n",
        "* Or **CASH\\_OUT** (fraud account withdraws money)\n",
        "\n",
        "⚠️ Fraud rarely happens with **PAYMENT** or **DEBIT**.\n",
        "\n",
        "### 🔸 2. `amount`\n",
        "\n",
        "✅ Makes sense:\n",
        "\n",
        "* Fraudulent transactions often involve **large amounts**\n",
        "* These are high-risk and attractive targets for attackers\n",
        "\n",
        "You saw this in the `amount` histogram too (log-scale spike).\n",
        "\n",
        "### 🔸 3. `diffOrig` (oldbalanceOrg - newbalanceOrig)\n",
        "\n",
        "✅ Logical:\n",
        "\n",
        "* If this difference = transaction amount, and post-transaction balance is **zero**, that’s suspicious.\n",
        "* Fraud often **empties the sender’s account completely**.\n",
        "\n",
        "### 🔸 4. `isOrigBalanceZero`\n",
        "\n",
        "✅ Very useful:\n",
        "\n",
        "* Many frauds start with **zero balance accounts** to avoid getting caught\n",
        "* Used to **route stolen money**, not real customers\n",
        "\n",
        "### 🔸 5. `isDestBalanceZero`\n",
        "\n",
        "✅ Helps identify “drop accounts”:\n",
        "\n",
        "* Fraudsters create dummy accounts with zero balance\n",
        "* Suddenly receive money → red flag\n",
        "\n",
        "---\n"
      ]
    },
    {
      "cell_type": "markdown",
      "metadata": {},
      "source": [
        "\n",
        "## **7. What fraud prevention can company implement?**\n",
        "\n",
        "### 🔹 A. **Real-time Fraud Detection System**\n",
        "\n",
        "✅ Integrate the trained machine learning model into the payment system.\n",
        "\n",
        "* Every transaction goes through the model in **real-time**\n",
        "* If the fraud probability is high → **flag the transaction or delay it for review**\n",
        "\n",
        "### 🔹 B. **Alerts & Threshold Systems**\n",
        "\n",
        "* Set up **transaction limits**\n",
        "\n",
        "  * Block or flag if amount > daily average\n",
        "* Alert if:\n",
        "\n",
        "  * Sender’s balance becomes **zero suddenly**\n",
        "  * Receiver account had **0 balance** and suddenly gets big funds\n",
        "\n",
        "### 🔹 C. **Two-Factor Authentication (2FA)**\n",
        "\n",
        "* Ask for **additional OTP or PIN** verification on:\n",
        "\n",
        "  * High-value transactions\n",
        "  * Transfer/Cash Out transaction types\n",
        "* Dynamic risk scoring → trigger 2FA only when needed\n",
        "\n",
        "### 🔹 D. **Velocity Checks**\n",
        "\n",
        "> Track how often an account is transacting.\n",
        "\n",
        "* Flag if:\n",
        "\n",
        "  * Too many transactions in a short time\n",
        "  * Transfer chain: money hops across multiple accounts in minutes\n",
        "\n",
        "### 🔹 E. **Account Profiling**\n",
        "\n",
        "Use ML to understand \"normal\" behavior for each customer:\n",
        "\n",
        "* Transaction time, frequency, amount, recipient types\n",
        "* If current transaction is out-of-pattern → flag\n",
        "\n",
        "### 🔹 F. **Regular Model Retraining**\n",
        "\n",
        "* Fraudsters evolve fast.\n",
        "* Retrain your ML model every **1–3 months** using new labeled data\n",
        "* Add new features over time\n",
        "\n",
        "---"
      ]
    },
    {
      "cell_type": "markdown",
      "metadata": {},
      "source": [
        "## **Q8. How to know if these strategies are working?**\n",
        "\n",
        "### 🔹 A. **Track Fraud Rate Over Time**\n",
        "\n",
        "✅ Compare **before vs after** implementation:\n",
        "\n",
        "* 📉 *Has the number of frauds reduced?*\n",
        "* Track weekly/monthly:\n",
        "\n",
        "  * `Fraud Rate = #Fraud Transactions / Total Transactions`\n",
        "  * Target: **Lower fraud rate without blocking too many legit users**\n",
        "\n",
        "### 🔹 B. **False Positives & False Negatives**\n",
        "\n",
        "> Good fraud systems **minimize both**:\n",
        "\n",
        "* False Positives: Legit users wrongly flagged\n",
        "* False Negatives: Real frauds that go undetected\n",
        "\n",
        "✅ Track:\n",
        "\n",
        "* % of flagged transactions that turned out legit\n",
        "* % of frauds caught too late\n",
        "\n",
        "📈 If false positives decrease and true fraud catches increase → ✅ it’s working!\n",
        "\n",
        "### 🔹 C. **User Feedback & Operations Reports**\n",
        "\n",
        "* ✅ Take inputs from customer support:\n",
        "\n",
        "  * *Are customers complaining less about unauthorized transactions?*\n",
        "* ✅ Check internal fraud team logs:\n",
        "\n",
        "  * *Has investigation load decreased?*\n",
        "\n",
        "### 🔹 D. **Model Monitoring Dashboard**\n",
        "\n",
        "* Deploy dashboards to watch:\n",
        "\n",
        "  * **Model performance over time (AUC, F1, Accuracy)**\n",
        "  * **Alert volume**\n",
        "  * **Transaction rejection rate**\n",
        "\n",
        "📊 Helps in making sure the model doesn’t degrade silently.\n",
        "\n",
        "---"
      ]
    }
  ],
  "metadata": {
    "colab": {
      "provenance": []
    },
    "kernelspec": {
      "display_name": "Python 3",
      "name": "python3"
    },
    "language_info": {
      "name": "python",
      "version": "3.11.0"
    }
  },
  "nbformat": 4,
  "nbformat_minor": 0
}
